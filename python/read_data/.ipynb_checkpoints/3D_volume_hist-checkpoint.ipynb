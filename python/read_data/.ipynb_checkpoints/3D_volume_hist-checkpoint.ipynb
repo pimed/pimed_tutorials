{
 "cells": [
  {
   "cell_type": "markdown",
   "metadata": {},
   "source": [
    "# Read volume, show slice and write png"
   ]
  },
  {
   "cell_type": "code",
   "execution_count": 1,
   "metadata": {
    "collapsed": true
   },
   "outputs": [],
   "source": [
    "import SimpleITK as sitk\n",
    "from matplotlib import pyplot as plt"
   ]
  },
  {
   "cell_type": "code",
   "execution_count": 2,
   "metadata": {
    "collapsed": true
   },
   "outputs": [],
   "source": [
    "#file path\n",
    "fn_hist = \"../data/hist_rgb.nii.gz\"\n",
    "fn_slice = \"../data/hist_rgb_10.png\""
   ]
  },
  {
   "cell_type": "code",
   "execution_count": 3,
   "metadata": {},
   "outputs": [
    {
     "name": "stdout",
     "output_type": "stream",
     "text": [
      "(2048, 2048, 25) (0.09764999896287918, 0.09764999896287918, 4.199999809265137) 3\n"
     ]
    }
   ],
   "source": [
    "#histology volume\n",
    "im_hist= sitk.ReadImage(fn_hist,sitk.sitkVectorUInt8)\n",
    "print(im_hist.GetSize(), im_hist.GetSpacing(), im_hist.GetNumberOfComponentsPerPixel())"
   ]
  },
  {
   "cell_type": "code",
   "execution_count": 4,
   "metadata": {
    "collapsed": true
   },
   "outputs": [],
   "source": [
    "slice_idx = 10\n",
    "slice_hist = im_hist[:,:,slice_idx]\n",
    "\n",
    "arr = sitk.GetArrayFromImage(im_hist)\n",
    "slice_hist_arr = arr[slice_idx,:,:,:]"
   ]
  },
  {
   "cell_type": "code",
   "execution_count": 5,
   "metadata": {},
   "outputs": [
    {
     "data": {
      "image/png": "[encoded data removed]",
      "text/plain": [
       "<matplotlib.figure.Figure at 0x15a7300f198>"
      ]
     },
     "metadata": {},
     "output_type": "display_data"
    }
   ],
   "source": [
    "plt.imshow(slice_hist_arr); plt.show()"
   ]
  },
  {
   "cell_type": "code",
   "execution_count": 6,
   "metadata": {
    "collapsed": true
   },
   "outputs": [],
   "source": [
    "sitk.WriteImage(slice_hist, fn_slice)"
   ]
  },
  {
   "cell_type": "markdown",
   "metadata": {},
   "source": [
    "# Apply Transform"
   ]
  },
  {
   "cell_type": "code",
   "execution_count": 7,
   "metadata": {
    "collapsed": true
   },
   "outputs": [],
   "source": [
    "#Rotate image by 5 deg\n",
    "import numpy as np\n",
    "from scipy import ndimage\n",
    "\n",
    "deg = 45\n",
    "rad = np.deg2rad(deg)"
   ]
  },
  {
   "cell_type": "code",
   "execution_count": 8,
   "metadata": {
    "collapsed": true
   },
   "outputs": [],
   "source": [
    "mode = 2 # 1 -rotate around geometric center\n",
    "         # 2 - rotate around center of mass\n",
    "    \n",
    "rotation = sitk.Euler2DTransform()\n",
    "rotation.SetAngle(rad)\n",
    "if mode==1:\n",
    "    center = [o+s*sp/2.0 for o,s,sp in zip(slice_hist.GetOrigin(), slice_hist.GetSize(),slice_hist.GetSpacing())]\n",
    "else:\n",
    "    arr_slice = sitk.GetArrayFromImage(slice_hist)\n",
    "    pix_center_of_mass = ndimage.measurements.center_of_mass(arr_slice)\n",
    "    center = [o+c*sp for o,c,sp in zip(slice_hist.GetOrigin(), pix_center_of_mass,slice_hist.GetSpacing())]\n",
    "\n",
    "rotation.SetCenter(center)"
   ]
  },
  {
   "cell_type": "code",
   "execution_count": 9,
   "metadata": {},
   "outputs": [
    {
     "data": {
      "image/png": "[encoded data removed]",
      "text/plain": [
       "<matplotlib.figure.Figure at 0x15a72488dd8>"
      ]
     },
     "metadata": {},
     "output_type": "display_data"
    }
   ],
   "source": [
    "im_hist_rot = sitk.Resample(slice_hist, rotation, sitk.sitkLinear,0)\n",
    "plt.imshow(sitk.GetArrayFromImage(im_hist_rot)); plt.show()"
   ]
  },
  {
   "cell_type": "code",
   "execution_count": 11,
   "metadata": {
    "collapsed": true
   },
   "outputs": [],
   "source": [
    "fn_slice=fn_slice = \"../data/hist_rgb_10_rot.png\"\n",
    "sitk.WriteImage(im_hist_rot, fn_slice)"
   ]
  }
 ],
 "metadata": {
  "kernelspec": {
   "display_name": "Python 3",
   "language": "python",
   "name": "python3"
  },
  "language_info": {
   "codemirror_mode": {
    "name": "ipython",
    "version": 3
   },
   "file_extension": ".py",
   "mimetype": "text/x-python",
   "name": "python",
   "nbconvert_exporter": "python",
   "pygments_lexer": "ipython3",
   "version": "3.6.3"
  }
 },
 "nbformat": 4,
 "nbformat_minor": 2
}
